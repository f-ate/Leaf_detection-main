{
 "cells": [
  {
   "cell_type": "code",
   "execution_count": null,
   "id": "f9b7889e",
   "metadata": {},
   "outputs": [],
   "source": [
    "import matplotlib.pyplot as plt\n",
    "import numpy as np\n",
    "import os\n",
    "import PIL #pillow to handle images\n",
    "import tensorflow as tf"
   ]
  },
  {
   "cell_type": "code",
   "execution_count": null,
   "id": "a9b1c3f1",
   "metadata": {},
   "outputs": [],
   "source": [
    "data_dir = os.path.join('leaf')"
   ]
  },
  {
   "cell_type": "code",
   "execution_count": null,
   "id": "28c9167a",
   "metadata": {},
   "outputs": [],
   "source": [
    "data_dir"
   ]
  },
  {
   "cell_type": "code",
   "execution_count": null,
   "id": "84e08ecb",
   "metadata": {},
   "outputs": [],
   "source": [
    "os.listdir(data_dir)"
   ]
  },
  {
   "cell_type": "code",
   "execution_count": null,
   "id": "bf7ba3af",
   "metadata": {},
   "outputs": [],
   "source": [
    "from keras.layers import Dense,Flatten\n",
    "from keras.models import Model\n",
    "from keras.preprocessing.image import ImageDataGenerator\n",
    "from keras.preprocessing import image\n",
    "from keras.models import Sequential\n",
    "from glob import glob"
   ]
  },
  {
   "cell_type": "code",
   "execution_count": null,
   "id": "fe34c9ac",
   "metadata": {},
   "outputs": [],
   "source": [
    "#batch_size = 4\n",
    "epochs = 25\n",
    "IMG_HIEGHT = 224\n",
    "IMG_WIDHT = 224"
   ]
  },
  {
   "cell_type": "code",
   "execution_count": null,
   "id": "b1885db5",
   "metadata": {},
   "outputs": [],
   "source": [
    "image_gen_train = ImageDataGenerator(rescale=1./255,\n",
    "                                    rotation_range=45,\n",
    "                                    horizontal_flip=True,\n",
    "                                    zoom_range=0.5,\n",
    "                                    validation_split=0.1)"
   ]
  },
  {
   "cell_type": "code",
   "execution_count": null,
   "id": "434e4954",
   "metadata": {},
   "outputs": [],
   "source": [
    "train_data_gen = image_gen_train.flow_from_directory(\n",
    "                                                    directory=data_dir,\n",
    "                                                    shuffle=True,\n",
    "                                                    target_size=(IMG_HIEGHT,IMG_HIEGHT),\n",
    "                                                    subset='training')"
   ]
  },
  {
   "cell_type": "code",
   "execution_count": null,
   "id": "d27f41b4",
   "metadata": {},
   "outputs": [],
   "source": [
    "train_data_gen.class_indices"
   ]
  },
  {
   "cell_type": "code",
   "execution_count": null,
   "id": "2ecab633",
   "metadata": {},
   "outputs": [],
   "source": [
    "image_gen_val = ImageDataGenerator(rescale=1./255,\n",
    "                                  validation_split=0.2)"
   ]
  },
  {
   "cell_type": "code",
   "execution_count": null,
   "id": "4eaabe8f",
   "metadata": {},
   "outputs": [],
   "source": [
    "val_data_gen = image_gen_val.flow_from_directory(\n",
    "                                                directory=data_dir,\n",
    "                                                target_size=(IMG_HIEGHT,IMG_WIDHT),\n",
    "                                                subset='validation')"
   ]
  },
  {
   "cell_type": "code",
   "execution_count": null,
   "id": "6d1ebcc2",
   "metadata": {},
   "outputs": [],
   "source": [
    "from keras.layers import Conv2D,MaxPooling2D,Dropout,BatchNormalization\n",
    "from keras.models import Sequential\n",
    "model = Sequential()\n",
    "model.add(Conv2D(32,(3,3),strides=(1,1), padding='valid',activation='relu',input_shape=(IMG_HIEGHT,IMG_WIDHT,3)))\n",
    "model.add(BatchNormalization(axis=3))\n",
    "\n",
    "model.add(Conv2D(64,(3,3),strides=(1,1), padding = 'same',activation='relu'))\n",
    "model.add(BatchNormalization(axis=3))\n",
    "model.add(MaxPooling2D(2,2))\n",
    "\n",
    "model.add(Conv2D(64,(3,3),strides=(1,1), padding = 'valid',activation='relu'))\n",
    "model.add(BatchNormalization(axis=3))\n",
    "\n",
    "\n",
    "model.add(Conv2D(128,(3,3),strides=(1,1), padding = 'same',activation='relu'))\n",
    "model.add(BatchNormalization(axis=3))\n",
    "model.add(MaxPooling2D(2,2))\n",
    "\n",
    "model.add(Conv2D(64,(3,3),strides=(1,1), padding = 'valid',activation='relu'))\n",
    "model.add(BatchNormalization(axis=3))\n",
    "model.add(MaxPooling2D(2,2))\n",
    "\n",
    "model.add(Flatten())\n",
    "model.add(Dense(200,activation='relu'))\n",
    "model.add(Dropout(0.6))\n",
    "model.add(Dense(5,activation='softmax'))"
   ]
  },
  {
   "cell_type": "code",
   "execution_count": null,
   "id": "e066eaaa",
   "metadata": {},
   "outputs": [],
   "source": [
    "model.summary()"
   ]
  },
  {
   "cell_type": "code",
   "execution_count": null,
   "id": "aa27f3f5",
   "metadata": {},
   "outputs": [],
   "source": [
    "from tensorflow.keras.optimizers import Adam\n",
    "#adam = Adam(learning_rate=0.0001)"
   ]
  },
  {
   "cell_type": "code",
   "execution_count": null,
   "id": "cdb17d30",
   "metadata": {},
   "outputs": [],
   "source": [
    "model.compile(optimizer='adam',loss='categorical_crossentropy',metrics=['accuracy'])"
   ]
  },
  {
   "cell_type": "code",
   "execution_count": null,
   "id": "a8855de4",
   "metadata": {},
   "outputs": [],
   "source": [
    "history = model.fit(train_data_gen,validation_data=val_data_gen,epochs=epochs,verbose=1)"
   ]
  },
  {
   "cell_type": "code",
   "execution_count": null,
   "id": "d5996fb5",
   "metadata": {},
   "outputs": [],
   "source": [
    "#tf.keras.models.save_model(model,'model_2.h5')"
   ]
  },
  {
   "cell_type": "code",
   "execution_count": null,
   "id": "57d7ad76",
   "metadata": {},
   "outputs": [],
   "source": []
  }
 ],
 "metadata": {
  "kernelspec": {
   "display_name": "Python 3",
   "language": "python",
   "name": "python3"
  },
  "language_info": {
   "codemirror_mode": {
    "name": "ipython",
    "version": 3
   },
   "file_extension": ".py",
   "mimetype": "text/x-python",
   "name": "python",
   "nbconvert_exporter": "python",
   "pygments_lexer": "ipython3",
   "version": "3.6.13"
  }
 },
 "nbformat": 4,
 "nbformat_minor": 5
}
